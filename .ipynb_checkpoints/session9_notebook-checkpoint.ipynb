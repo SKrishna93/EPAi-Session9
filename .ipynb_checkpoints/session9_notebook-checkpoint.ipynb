{
 "cells": [
  {
   "cell_type": "code",
   "execution_count": 1,
   "metadata": {},
   "outputs": [],
   "source": [
    "from random import randint\n",
    "import session9\n",
    "from session9 import get_profiles, get_largest_blood_group, get_mean_current_location, get_mean_age, get_max_age\n",
    "from session9 import get_profiles_dict, get_largest_blood_group_dict, get_mean_current_location_dict\n",
    "from session9 import get_mean_age_dict, get_max_age_dict\n",
    "from session9 import generate_company_data, compute_exchange_movement\n",
    "from session9 import length_of_profile, length_of_profile_dict, size_of_exchange"
   ]
  },
  {
   "cell_type": "code",
   "execution_count": 2,
   "metadata": {},
   "outputs": [
    {
     "name": "stdout",
     "output_type": "stream",
     "text": [
      "Run time: 150.383607s\n",
      "Profiles are stored in a <class 'tuple'>\n",
      "Number of profiles generated from faker library: 10000\n",
      "**************\n",
      "Sample profile generated:\n",
      "profile(job='Lecturer, higher education', company='Wise, Ingram and Lewis', ssn='500-15-4836', residence='48825 Lowe Estates\\nNorth Tara, HI 10172', current_location=(Decimal('52.3232345'), Decimal('41.011094')), blood_group='AB+', website=['https://www.ruiz-villanueva.biz/', 'https://www.howe.com/', 'http://www.smith.com/'], username='usmith', name='Cody King Jr.', sex='M', address='1175 Williams Shoals Suite 406\\nNorth Amanda, NJ 54984', mail='daniel39@yahoo.com', birthdate=datetime.date(1940, 9, 9))\n"
     ]
    }
   ],
   "source": [
    "# Generate 10_000 profiles from faker library and store them in namedtuple\n",
    "\n",
    "prof, _ = get_profiles(10_000)\n",
    "print(f'Profiles are stored in a {type(prof)}')\n",
    "print(f'Number of profiles generated from faker library: {len(prof)}')\n",
    "print(\"**************\")\n",
    "print(f'Sample profile generated:\\n{prof[randint(0, len(prof)-1)]}')"
   ]
  },
  {
   "cell_type": "code",
   "execution_count": 3,
   "metadata": {},
   "outputs": [
    {
     "name": "stdout",
     "output_type": "stream",
     "text": [
      "Run time: 136.626364s\n",
      "Profiles are stored in a <class 'dict'>\n",
      "Number of profiles generated from faker library: 10000\n",
      "**************\n",
      "Sample profile generated:\n",
      "{'job': 'Passenger transport manager', 'company': 'Obrien-Rivera', 'ssn': '305-62-5985', 'residence': '800 Jimmy Shores\\nJoshuaside, MS 68029', 'current_location': (Decimal('28.1559825'), Decimal('148.204024')), 'blood_group': 'O+', 'website': ['http://wilson.com/'], 'username': 'shamilton', 'name': 'Jon Carter', 'sex': 'M', 'address': '54014 Kirby Creek\\nMorrisside, GA 31569', 'mail': 'gwatts@yahoo.com', 'birthdate': datetime.date(2000, 6, 9)}\n"
     ]
    }
   ],
   "source": [
    "# Generate 10_000 profiles from faker library and store them in dictionary\n",
    "\n",
    "prof_dict, _ = get_profiles_dict(10_000)\n",
    "print(f'Profiles are stored in a {type(prof_dict)}')\n",
    "print(f'Number of profiles generated from faker library: {len(prof_dict)}')\n",
    "print(\"**************\")\n",
    "print(f'Sample profile generated:\\n{prof_dict[randint(0, len(prof)-1)]}')"
   ]
  },
  {
   "cell_type": "code",
   "execution_count": 4,
   "metadata": {},
   "outputs": [
    {
     "name": "stdout",
     "output_type": "stream",
     "text": [
      "For profiles stored in namedtuple\n",
      "Run time: 0.016843s\n",
      "The largest Blood Group is ('O+', 1282)\n",
      "**************\n",
      "For profiles stored in dictionary\n",
      "Run time: 0.063693s\n",
      "The largest Blood Group is ('AB+', 1274)\n"
     ]
    }
   ],
   "source": [
    "# Get the larget Blood Group in the profiles generated\n",
    "\n",
    "print(f'For profiles stored in namedtuple')\n",
    "max_bg_tup, _ = get_largest_blood_group(prof)\n",
    "print(f'The largest Blood Group is {max_bg_tup}')\n",
    "print(\"**************\")\n",
    "print(f'For profiles stored in dictionary')\n",
    "max_bg_dict, _ = get_largest_blood_group_dict(prof_dict)\n",
    "print(f'The largest Blood Group is {max_bg_dict}')"
   ]
  },
  {
   "cell_type": "code",
   "execution_count": 5,
   "metadata": {},
   "outputs": [
    {
     "name": "stdout",
     "output_type": "stream",
     "text": [
      "For profiles stored in namedtuple\n",
      "Run time: 0.021696s\n",
      "The mean current_location is (Decimal('-0.21283670215'), Decimal('-1.0688063778'))\n",
      "**************\n",
      "For profiles stored in dictionary\n",
      "Run time: 0.064272s\n",
      "The mean current_location is (Decimal('0.2567677688'), Decimal('-0.924985752'))\n"
     ]
    }
   ],
   "source": [
    "# Get the mean current location in the profiles generated\n",
    "\n",
    "print(f'For profiles stored in namedtuple')\n",
    "mean_loc_tup, _ = get_mean_current_location(prof)\n",
    "print(f'The mean current_location is {mean_loc_tup}')\n",
    "print(\"**************\")\n",
    "print(f'For profiles stored in dictionary')\n",
    "mean_loc_dict, _ = get_mean_current_location_dict(prof_dict)\n",
    "print(f'The mean current_location is {mean_loc_dict}')"
   ]
  },
  {
   "cell_type": "code",
   "execution_count": 6,
   "metadata": {},
   "outputs": [
    {
     "name": "stdout",
     "output_type": "stream",
     "text": [
      "For profiles stored in namedtuple\n",
      "Run time: 0.271302s\n",
      "The mean age is 57.94\n",
      "**************\n",
      "For profiles stored in dictionary\n",
      "Run time: 0.370266s\n",
      "The mean age is 57.87\n"
     ]
    }
   ],
   "source": [
    "# Get the mean age in the profiles generated\n",
    "\n",
    "print(f'For profiles stored in namedtuple')\n",
    "mean_age_tup, _ = get_mean_age(prof)\n",
    "print(f'The mean age is {mean_age_tup}')\n",
    "print(\"**************\")\n",
    "print(f'For profiles stored in dictionary')\n",
    "mean_age_dict, _ = get_mean_age_dict(prof_dict)\n",
    "print(f'The mean age is {mean_age_dict}')"
   ]
  },
  {
   "cell_type": "code",
   "execution_count": 7,
   "metadata": {},
   "outputs": [
    {
     "name": "stdout",
     "output_type": "stream",
     "text": [
      "For profiles stored in namedtuple\n",
      "Run time: 0.003919s\n",
      "The mean age is 116.08\n",
      "**************\n",
      "For profiles stored in dictionary\n",
      "Run time: 0.043790s\n",
      "The mean age is 116.08\n"
     ]
    }
   ],
   "source": [
    "# Get the max age in the profiles generated\n",
    "\n",
    "print(f'For profiles stored in namedtuple')\n",
    "max_age_tup, _ = get_max_age(prof)\n",
    "print(f'The mean age is {max_age_tup}')\n",
    "print(\"**************\")\n",
    "print(f'For profiles stored in dictionary')\n",
    "max_age_dict, _ = get_max_age_dict(prof_dict)\n",
    "print(f'The mean age is {max_age_dict}')"
   ]
  },
  {
   "cell_type": "code",
   "execution_count": 8,
   "metadata": {},
   "outputs": [
    {
     "name": "stdout",
     "output_type": "stream",
     "text": [
      "For profiles stored in namedtuple\n",
      "Run time: 0.004258s\n",
      "The mean age is 116.08\n",
      "**************\n",
      "For profiles stored in dictionary\n",
      "Run time: 0.033112s\n",
      "The mean age is 116.08\n"
     ]
    }
   ],
   "source": [
    "# Get the max age in the profiles generated\n",
    "\n",
    "print(f'For profiles stored in namedtuple')\n",
    "max_age_tup, _ = get_max_age(prof)\n",
    "print(f'The mean age is {max_age_tup}')\n",
    "print(\"**************\")\n",
    "print(f'For profiles stored in dictionary')\n",
    "max_age_dict, _ = get_max_age_dict(prof_dict)\n",
    "print(f'The mean age is {max_age_dict}')"
   ]
  },
  {
   "cell_type": "code",
   "execution_count": 14,
   "metadata": {},
   "outputs": [
    {
     "name": "stdout",
     "output_type": "stream",
     "text": [
      "Company stock exchnage data is stored in a <class 'tuple'>\n",
      "\n",
      "The size of the stock_exchange is: 100\n",
      "\n",
      "Sample stock data for the listed company\n",
      "stock(name='Baker, Bailey and Sellers', symbol='BAKE', open=916.73, low=855.81, high=929.02, close=845.27, wt=0.018823540114159376)\n"
     ]
    }
   ],
   "source": [
    "# Generate fake and random stock exchange data for 100 Companies\n",
    "\n",
    "stock_exchange = generate_company_data(100)\n",
    "\n",
    "print(f'Company stock exchnage data is stored in a {type(stock_exchange)}')\n",
    "print(f'\\nThe size of the stock_exchange is: {len(stock_exchange)}')\n",
    "print(f'\\nSample stock data for the listed company\\n{stock_exchange[randint(0,len(stock_exchange)-1)]}')"
   ]
  },
  {
   "cell_type": "code",
   "execution_count": 10,
   "metadata": {},
   "outputs": [
    {
     "name": "stdout",
     "output_type": "stream",
     "text": [
      "Stock market index: index(exchange_open=4872.45, exchange_close=4931.47, exchange_low=4639.17, exchange_high=5127.16)\n",
      "Index indicator: Bullish\n"
     ]
    }
   ],
   "source": [
    "# Compute the index's open, close, low, high and outlook (Bulish or Bearish)\n",
    "\n",
    "exchange_index, exchange_outlook = compute_exchange_movement(stock_exchange)\n",
    "print(f'Stock market index: {exchange_index}')\n",
    "print(f'Index indicator: {exchange_outlook}')"
   ]
  },
  {
   "cell_type": "code",
   "execution_count": 15,
   "metadata": {},
   "outputs": [
    {
     "name": "stdout",
     "output_type": "stream",
     "text": [
      "Stock market index: index(exchange_open=5003.63, exchange_close=4989.12, exchange_low=4773.34, exchange_high=5264.49)\n",
      "Index indicator: Bearish\n"
     ]
    }
   ],
   "source": [
    "exchange_index, exchange_outlook = compute_exchange_movement(stock_exchange)\n",
    "print(f'Stock market index: {exchange_index}')\n",
    "print(f'Index indicator: {exchange_outlook}')"
   ]
  }
 ],
 "metadata": {
  "kernelspec": {
   "display_name": "Python 3",
   "language": "python",
   "name": "python3"
  },
  "language_info": {
   "codemirror_mode": {
    "name": "ipython",
    "version": 3
   },
   "file_extension": ".py",
   "mimetype": "text/x-python",
   "name": "python",
   "nbconvert_exporter": "python",
   "pygments_lexer": "ipython3",
   "version": "3.6.5"
  }
 },
 "nbformat": 4,
 "nbformat_minor": 2
}
